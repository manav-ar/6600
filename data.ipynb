{
 "cells": [
  {
   "cell_type": "code",
   "execution_count": 3,
   "id": "bbb13645",
   "metadata": {},
   "outputs": [
    {
     "name": "stdout",
     "output_type": "stream",
     "text": [
      "Collecting yfinance\n",
      "  Using cached yfinance-0.2.55-py2.py3-none-any.whl.metadata (5.8 kB)\n",
      "Requirement already satisfied: pandas>=1.3.0 in /home/manav/miniconda3/envs/dsan6600/lib/python3.10/site-packages (from yfinance) (2.2.3)\n",
      "Requirement already satisfied: numpy>=1.16.5 in /home/manav/miniconda3/envs/dsan6600/lib/python3.10/site-packages (from yfinance) (2.0.1)\n",
      "Requirement already satisfied: requests>=2.31 in /home/manav/miniconda3/envs/dsan6600/lib/python3.10/site-packages (from yfinance) (2.32.3)\n",
      "Collecting multitasking>=0.0.7 (from yfinance)\n",
      "  Using cached multitasking-0.0.11-py3-none-any.whl.metadata (5.5 kB)\n",
      "Requirement already satisfied: platformdirs>=2.0.0 in /home/manav/miniconda3/envs/dsan6600/lib/python3.10/site-packages (from yfinance) (3.10.0)\n",
      "Requirement already satisfied: pytz>=2022.5 in /home/manav/miniconda3/envs/dsan6600/lib/python3.10/site-packages (from yfinance) (2025.1)\n",
      "Collecting frozendict>=2.3.4 (from yfinance)\n",
      "  Downloading frozendict-2.4.6-cp310-cp310-manylinux_2_17_x86_64.manylinux2014_x86_64.whl.metadata (23 kB)\n",
      "Collecting peewee>=3.16.2 (from yfinance)\n",
      "  Using cached peewee-3.17.9.tar.gz (3.0 MB)\n",
      "  Installing build dependencies ... \u001b[?25ldone\n",
      "\u001b[?25h  Getting requirements to build wheel ... \u001b[?25ldone\n",
      "\u001b[?25h  Preparing metadata (pyproject.toml) ... \u001b[?25ldone\n",
      "\u001b[?25hRequirement already satisfied: beautifulsoup4>=4.11.1 in /home/manav/miniconda3/envs/dsan6600/lib/python3.10/site-packages (from yfinance) (4.12.3)\n",
      "Requirement already satisfied: soupsieve>1.2 in /home/manav/miniconda3/envs/dsan6600/lib/python3.10/site-packages (from beautifulsoup4>=4.11.1->yfinance) (2.5)\n",
      "Requirement already satisfied: python-dateutil>=2.8.2 in /home/manav/miniconda3/envs/dsan6600/lib/python3.10/site-packages (from pandas>=1.3.0->yfinance) (2.9.0.post0)\n",
      "Requirement already satisfied: tzdata>=2022.7 in /home/manav/miniconda3/envs/dsan6600/lib/python3.10/site-packages (from pandas>=1.3.0->yfinance) (2025.1)\n",
      "Requirement already satisfied: charset-normalizer<4,>=2 in /home/manav/miniconda3/envs/dsan6600/lib/python3.10/site-packages (from requests>=2.31->yfinance) (3.3.2)\n",
      "Requirement already satisfied: idna<4,>=2.5 in /home/manav/miniconda3/envs/dsan6600/lib/python3.10/site-packages (from requests>=2.31->yfinance) (3.7)\n",
      "Requirement already satisfied: urllib3<3,>=1.21.1 in /home/manav/miniconda3/envs/dsan6600/lib/python3.10/site-packages (from requests>=2.31->yfinance) (2.3.0)\n",
      "Requirement already satisfied: certifi>=2017.4.17 in /home/manav/miniconda3/envs/dsan6600/lib/python3.10/site-packages (from requests>=2.31->yfinance) (2024.12.14)\n",
      "Requirement already satisfied: six>=1.5 in /home/manav/miniconda3/envs/dsan6600/lib/python3.10/site-packages (from python-dateutil>=2.8.2->pandas>=1.3.0->yfinance) (1.16.0)\n",
      "Using cached yfinance-0.2.55-py2.py3-none-any.whl (109 kB)\n",
      "Downloading frozendict-2.4.6-cp310-cp310-manylinux_2_17_x86_64.manylinux2014_x86_64.whl (117 kB)\n",
      "Using cached multitasking-0.0.11-py3-none-any.whl (8.5 kB)\n",
      "Building wheels for collected packages: peewee\n",
      "  Building wheel for peewee (pyproject.toml) ... \u001b[?25ldone\n",
      "\u001b[?25h  Created wheel for peewee: filename=peewee-3.17.9-cp310-cp310-linux_x86_64.whl size=300922 sha256=18b3ed12e9f897f64c07ee10a8e6045c6d267d2884e781522fabd30d08986fb9\n",
      "  Stored in directory: /home/manav/.cache/pip/wheels/fd/fd/5e/90b9ec95da4fd6c96237b580ce74f89d6bdea547ad151ab5f4\n",
      "Successfully built peewee\n",
      "Installing collected packages: peewee, multitasking, frozendict, yfinance\n",
      "Successfully installed frozendict-2.4.6 multitasking-0.0.11 peewee-3.17.9 yfinance-0.2.55\n"
     ]
    }
   ],
   "source": [
    "! pip install yfinance"
   ]
  },
  {
   "cell_type": "code",
   "execution_count": null,
   "id": "6fdc07be",
   "metadata": {},
   "outputs": [
    {
     "name": "stderr",
     "output_type": "stream",
     "text": [
      "/home/manav/miniconda3/envs/dsan6600/lib/python3.10/site-packages/numpy/_core/getlimits.py:545: UserWarning: Signature b'\\x00\\xd0\\xcc\\xcc\\xcc\\xcc\\xcc\\xcc\\xfb\\xbf\\x00\\x00\\x00\\x00\\x00\\x00' for <class 'numpy.longdouble'> does not match any known type: falling back to type probe function.\n",
      "This warnings indicates broken support for the dtype!\n",
      "  machar = _get_machar(dtype)\n"
     ]
    },
    {
     "name": "stdout",
     "output_type": "stream",
     "text": [
      "\n",
      "=== Fetching 1d data ===\n",
      "YF.download() has changed argument auto_adjust default to True\n",
      "✔️ GOOGL (1d) - 5093 rows\n",
      "✔️ TTD (1d) - 2143 rows\n",
      "✔️ CDNS (1d) - 5093 rows\n",
      "✔️ JBHT (1d) - 5093 rows\n",
      "✔️ MSFT (1d) - 5093 rows\n"
     ]
    },
    {
     "name": "stderr",
     "output_type": "stream",
     "text": [
      "\n",
      "1 Failed download:\n",
      "['SGEN']: YFTzMissingError('possibly delisted; no timezone found')\n"
     ]
    },
    {
     "name": "stdout",
     "output_type": "stream",
     "text": [
      "⚠️ No data for SGEN (1d)\n",
      "✔️ WBD (1d) - 4964 rows\n",
      "✔️ ADBE (1d) - 5093 rows\n",
      "✔️ CRWD (1d) - 1459 rows\n",
      "✔️ AEP (1d) - 5093 rows\n",
      "✔️ EBAY (1d) - 5093 rows\n",
      "✔️ RIVN (1d) - 849 rows\n",
      "✔️ CTSH (1d) - 5093 rows\n",
      "✔️ CMCSA (1d) - 5093 rows\n",
      "✔️ SIRI (1d) - 5093 rows\n",
      "✔️ ROST (1d) - 5093 rows\n",
      "✔️ DLTR (1d) - 5093 rows\n",
      "✔️ BIIB (1d) - 5093 rows\n",
      "✔️ REGN (1d) - 5093 rows\n",
      "✔️ CEG (1d) - 802 rows\n",
      "✔️ GEHC (1d) - 573 rows\n",
      "✔️ ODFL (1d) - 5093 rows\n",
      "✔️ TSLA (1d) - 3712 rows\n",
      "✔️ MRNA (1d) - 1586 rows\n",
      "✔️ ANSS (1d) - 5093 rows\n",
      "✔️ LCID (1d) - 1138 rows\n",
      "✔️ NXPI (1d) - 3685 rows\n",
      "✔️ MNST (1d) - 5093 rows\n",
      "✔️ TEAM (1d) - 2340 rows\n",
      "✔️ MDB (1d) - 1871 rows\n",
      "✔️ INTU (1d) - 5093 rows\n",
      "✔️ KLAC (1d) - 5093 rows\n",
      "✔️ SNPS (1d) - 5093 rows\n",
      "✔️ ZS (1d) - 1770 rows\n",
      "✔️ VRSK (1d) - 3894 rows\n",
      "✔️ ZM (1d) - 1496 rows\n",
      "✔️ ADP (1d) - 5093 rows\n",
      "✔️ PAYX (1d) - 5093 rows\n",
      "✔️ IDXX (1d) - 5093 rows\n",
      "✔️ AZN (1d) - 5093 rows\n",
      "✔️ BIDU (1d) - 4944 rows\n",
      "✔️ NFLX (1d) - 5093 rows\n",
      "✔️ VERI (1d) - 1982 rows\n",
      "✔️ PYPL (1d) - 2450 rows\n",
      "✔️ ROKU (1d) - 1886 rows\n",
      "✔️ CTAS (1d) - 5093 rows\n",
      "✔️ COST (1d) - 5093 rows\n",
      "✔️ ISRG (1d) - 5093 rows\n",
      "✔️ MAR (1d) - 5093 rows\n",
      "✔️ WDAY (1d) - 3133 rows\n",
      "✔️ META (1d) - 3235 rows\n",
      "✔️ TMUS (1d) - 4517 rows\n",
      "✔️ FTNT (1d) - 3864 rows\n",
      "✔️ VRTX (1d) - 5093 rows\n",
      "✔️ AMD (1d) - 5093 rows\n",
      "✔️ AVGO (1d) - 3937 rows\n",
      "✔️ CHTR (1d) - 3833 rows\n",
      "✔️ ORLY (1d) - 5093 rows\n",
      "✔️ ABNB (1d) - 1080 rows\n",
      "✔️ QCOM (1d) - 5093 rows\n",
      "✔️ TXN (1d) - 5093 rows\n",
      "✔️ AAPL (1d) - 5093 rows\n",
      "✔️ ALGN (1d) - 5093 rows\n",
      "✔️ PCAR (1d) - 5093 rows\n",
      "✔️ PDD (1d) - 1679 rows\n",
      "✔️ BKNG (1d) - 5093 rows\n",
      "✔️ PANW (1d) - 3192 rows\n",
      "✔️ AMAT (1d) - 5093 rows\n"
     ]
    },
    {
     "name": "stderr",
     "output_type": "stream",
     "text": [
      "404 Client Error: Not Found for url: https://query2.finance.yahoo.com/v10/finance/quoteSummary/SPLK?modules=financialData%2CquoteType%2CdefaultKeyStatistics%2CassetProfile%2CsummaryDetail&corsDomain=finance.yahoo.com&formatted=false&symbol=SPLK&crumb=VvdYZ2GWt0w\n",
      "\n",
      "1 Failed download:\n",
      "['SPLK']: AttributeError(\"'NoneType' object has no attribute 'update'\")\n"
     ]
    },
    {
     "name": "stdout",
     "output_type": "stream",
     "text": [
      "⚠️ No data for SPLK (1d)\n",
      "✔️ DOCU (1d) - 1741 rows\n",
      "✔️ MELI (1d) - 4438 rows\n",
      "✔️ PEP (1d) - 5093 rows\n"
     ]
    },
    {
     "name": "stderr",
     "output_type": "stream",
     "text": [
      "\n",
      "1 Failed download:\n",
      "['FISV']: YFTzMissingError('possibly delisted; no timezone found')\n"
     ]
    },
    {
     "name": "stdout",
     "output_type": "stream",
     "text": [
      "⚠️ No data for FISV (1d)\n",
      "✔️ EXC (1d) - 5093 rows\n",
      "✔️ GILD (1d) - 5093 rows\n",
      "✔️ TTWO (1d) - 5093 rows\n",
      "✔️ ASML (1d) - 5093 rows\n",
      "✔️ INTC (1d) - 5093 rows\n",
      "✔️ GOOG (1d) - 5093 rows\n",
      "✔️ DDOG (1d) - 1390 rows\n",
      "✔️ NVDA (1d) - 5093 rows\n",
      "✔️ SBUX (1d) - 5093 rows\n",
      "✔️ FAST (1d) - 5093 rows\n",
      "✔️ MU (1d) - 5093 rows\n",
      "✔️ CSCO (1d) - 5093 rows\n",
      "✔️ LRCX (1d) - 5093 rows\n",
      "✔️ KDP (1d) - 4252 rows\n",
      "✔️ OKTA (1d) - 2006 rows\n",
      "✔️ AMZN (1d) - 5093 rows\n",
      "✔️ ADI (1d) - 5093 rows\n",
      "✔️ BKR (1d) - 5093 rows\n",
      "✔️ MDLZ (1d) - 5093 rows\n",
      "✔️ XEL (1d) - 5093 rows\n",
      "✔️ CSGP (1d) - 5093 rows\n",
      "✔️ CPRT (1d) - 5093 rows\n",
      "✔️ CDW (1d) - 2958 rows\n",
      "✔️ NTES (1d) - 5093 rows\n"
     ]
    }
   ],
   "source": [
    "import yfinance as yf\n",
    "\n",
    "# Define NASDAQ-100 tickers\n",
    "tickers = list(set([\n",
    "    \"AAPL\", \"MSFT\", \"AMZN\", \"NVDA\", \"META\", \"GOOGL\", \"GOOG\", \"AVGO\", \"TSLA\", \"ADBE\",\n",
    "    \"PEP\", \"COST\", \"CMCSA\", \"CSCO\", \"AMD\", \"NFLX\", \"INTC\", \"AMAT\", \"QCOM\", \"TMUS\",\n",
    "    \"TXN\", \"ISRG\", \"INTU\", \"SBUX\", \"MU\", \"BKNG\", \"MDLZ\", \"ADI\", \"LRCX\", \"VRTX\",\n",
    "    \"REGN\", \"GILD\", \"PANW\", \"FISV\", \"ADP\", \"PYPL\", \"KLAC\", \"MAR\", \"CRWD\", \"MELI\",\n",
    "    \"SNPS\", \"CDNS\", \"ASML\", \"NXPI\", \"CTSH\", \"FTNT\", \"IDXX\", \"CSGP\", \"CHTR\", \"AEP\",\n",
    "    \"FAST\", \"EXC\", \"PCAR\", \"ROST\", \"WDAY\", \"BIIB\", \"ORLY\", \"CTAS\", \"EBAY\", \"XEL\",\n",
    "    \"ANSS\", \"PAYX\", \"MNST\", \"AZN\", \"ODFL\", \"TTD\", \"GEHC\", \"KDP\", \"TEAM\", \"SGEN\",\n",
    "    \"MRNA\", \"ZS\", \"VRSK\", \"TTWO\", \"DLTR\", \"CPRT\", \"SIRI\", \"BKR\", \"JBHT\",\n",
    "    \"CDW\", \"CEG\", \"LCID\", \"PDD\", \"RIVN\", \"ALGN\", \"WBD\", \"VERI\", \"DDOG\", \"ABNB\",\n",
    "    \"DOCU\", \"ZM\", \"OKTA\", \"NTES\", \"BIDU\", \"SPLK\", \"MDB\", \"ROKU\"\n",
    "]))\n",
    "\n",
    "# Set date range\n",
    "start_date = \"2005-01-01\"\n",
    "end_date = \"2025-04-01\"\n",
    "frequencies = [\"1d\"]\n",
    "\n",
    "# Prepare output dictionary\n",
    "stock_data = {freq: {} for freq in frequencies}\n",
    "\n",
    "# Loop and fetch data\n",
    "for freq in frequencies:\n",
    "    print(f\"\\n=== Fetching {freq} data ===\")\n",
    "    for ticker in tickers:\n",
    "        try:\n",
    "            df = yf.download(ticker, start=start_date, end=end_date, interval=freq, progress=False)\n",
    "            if not df.empty:\n",
    "                df = df.reset_index()\n",
    "                df.rename(columns={\"Date\": \"Time\"}, inplace=True)\n",
    "                df = df[[\"Time\", \"Open\", \"High\", \"Low\", \"Close\", \"Volume\"]]\n",
    "                stock_data[freq][ticker] = df\n",
    "                print(f\"✔️ {ticker} ({freq}) - {len(df)} rows\")\n",
    "            else:\n",
    "                print(f\"⚠️ No data for {ticker} ({freq})\")\n",
    "        except Exception as e:\n",
    "            print(f\"❌ {ticker} ({freq}) error: {e}\")\n"
   ]
  },
  {
   "cell_type": "code",
   "execution_count": 5,
   "id": "611f7c4c",
   "metadata": {},
   "outputs": [],
   "source": [
    "for freq, data in stock_data.items():\n",
    "    for ticker, df in data.items():\n",
    "        df.to_csv(f\"stock_data/{ticker}.csv\", index=False)"
   ]
  }
 ],
 "metadata": {
  "kernelspec": {
   "display_name": "Python 3 (ipykernel)",
   "language": "python",
   "name": "python3"
  },
  "language_info": {
   "codemirror_mode": {
    "name": "ipython",
    "version": 3
   },
   "file_extension": ".py",
   "mimetype": "text/x-python",
   "name": "python",
   "nbconvert_exporter": "python",
   "pygments_lexer": "ipython3",
   "version": "3.10.16"
  }
 },
 "nbformat": 4,
 "nbformat_minor": 5
}
